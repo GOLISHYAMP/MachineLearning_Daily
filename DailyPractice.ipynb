{
  "nbformat": 4,
  "nbformat_minor": 0,
  "metadata": {
    "colab": {
      "provenance": [],
      "authorship_tag": "ABX9TyMm75VX7fB9K+zKwQOEQ8JC",
      "include_colab_link": true
    },
    "kernelspec": {
      "name": "python3",
      "display_name": "Python 3"
    },
    "language_info": {
      "name": "python"
    }
  },
  "cells": [
    {
      "cell_type": "markdown",
      "metadata": {
        "id": "view-in-github",
        "colab_type": "text"
      },
      "source": [
        "<a href=\"https://colab.research.google.com/github/GOLISHYAMP/MachineLearning_Daily/blob/master/DailyPractice.ipynb\" target=\"_parent\"><img src=\"https://colab.research.google.com/assets/colab-badge.svg\" alt=\"Open In Colab\"/></a>"
      ]
    },
    {
      "cell_type": "code",
      "execution_count": 1,
      "metadata": {
        "id": "zTZJ-djsSaT7",
        "colab": {
          "base_uri": "https://localhost:8080/"
        },
        "outputId": "efd9a7ca-4bbe-49ab-fa3c-babdc549676a"
      },
      "outputs": [
        {
          "output_type": "stream",
          "name": "stdout",
          "text": [
            "25\n"
          ]
        }
      ],
      "source": [
        "print(12+13)"
      ]
    },
    {
      "cell_type": "code",
      "source": [
        "print(45+89)"
      ],
      "metadata": {
        "colab": {
          "base_uri": "https://localhost:8080/"
        },
        "id": "klLcW5OOTQgJ",
        "outputId": "890626bd-8fdd-4199-ced4-7a4c56f2c276"
      },
      "execution_count": 2,
      "outputs": [
        {
          "output_type": "stream",
          "name": "stdout",
          "text": [
            "134\n"
          ]
        }
      ]
    },
    {
      "cell_type": "code",
      "source": [],
      "metadata": {
        "id": "EajR2pybTZkg"
      },
      "execution_count": null,
      "outputs": []
    }
  ]
}